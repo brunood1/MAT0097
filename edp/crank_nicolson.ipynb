{
 "cells": [
  {
   "cell_type": "code",
   "execution_count": 2,
   "metadata": {},
   "outputs": [],
   "source": [
    "import numpy as np\n",
    "import matplotlib.pyplot as plt\n",
    "from mpl_toolkits.mplot3d import Axes3D"
   ]
  },
  {
   "cell_type": "code",
   "execution_count": 27,
   "metadata": {},
   "outputs": [
    {
     "name": "stdout",
     "output_type": "stream",
     "text": [
      " 0.000000  0.011967  0.023518  0.034665  0.045417  0.055788 \n",
      " 1.732051  1.695938  1.660661  1.626200  1.592534  1.559644 \n",
      "-1.732051 -1.695938 -1.660661 -1.626200 -1.592534 -1.559644 \n",
      "-0.000000 -0.011967 -0.023518 -0.034665 -0.045417 -0.055788 \n"
     ]
    }
   ],
   "source": [
    "def condicaoInicial(x):\n",
    "    return 2*np.sin(2*np.pi*x)\n",
    "\n",
    "def solEx(x, t):\n",
    "    nx = len(x)\n",
    "    nt = len(t)\n",
    "    \n",
    "    X, T = np.meshgrid(x,t)\n",
    "    \n",
    "    S = 2*np.exp(-(1/4)*np.pi*T)*np.sin(2*np.pi*X)\n",
    "    \n",
    "    return S\n",
    "\n",
    "def matA(n, l):\n",
    "    A = np.zeros((n,n))\n",
    "    for i in range(n):\n",
    "        A[i,i] = 1 + l\n",
    "    \n",
    "        if i - 1 >= 0 and i - 1 < n:\n",
    "            A[i,i-1] = -l/2\n",
    "        if i + 1 >= 0 and i + 1 < n:\n",
    "            A[i,i+1] = -l/2\n",
    "            \n",
    "    return A\n",
    "\n",
    "def matB(n, l):\n",
    "    B = np.zeros((n,n))\n",
    "    for i in range(n):\n",
    "        B[i,i] = 1 - l\n",
    "    \n",
    "        if i - 1 >= 0 and i - 1 < n:\n",
    "            B[i,i-1] = l/2\n",
    "        if i + 1 >= 0 and i + 1 < n:\n",
    "            B[i,i+1] = l/2\n",
    "            \n",
    "    return B\n",
    "\n",
    "def part(N, tmin, tmax):\n",
    "    h = (tmax - tmin)/N\n",
    "    \n",
    "    t = np.zeros(N+1)\n",
    "    for i in range(len(t)):\n",
    "        t[i] = tmin + i*h\n",
    "    \n",
    "    return t, h\n",
    "\n",
    "xmin = 0\n",
    "xmax = 1\n",
    "\n",
    "tmin = 0\n",
    "tmax = 1\n",
    "\n",
    "x, h = part(3,xmin,xmax)\n",
    "t, k = part(5,tmin,tmax)\n",
    "\n",
    "alfa = 1/16\n",
    "\n",
    "l = (alfa**2)*(k/(h**2))\n",
    "\n",
    "A = matA(len(x), l)\n",
    "B = matB(len(x), l)\n",
    "\n",
    "W = np.zeros((len(x), len(t)))\n",
    "\n",
    "w0 = condicaoInicial(x)\n",
    "\n",
    "W[:,0] = w0\n",
    "for i in range(1,len(t)):\n",
    "    b = B@W[:,i-1]\n",
    "    W[:,i] = np.linalg.solve(A,b)\n",
    "\n",
    "for i in range(len(W)):\n",
    "    for j in range(len(W[0])):\n",
    "        if W[i,j] < 0:\n",
    "            print(f\"{W[i,j]:.6f}\", end=' ')\n",
    "        else:\n",
    "            print(f\" {W[i,j]:.6f}\", end=' ')\n",
    "    print(\"\")\n",
    "    \n",
    "\n"
   ]
  },
  {
   "cell_type": "code",
   "execution_count": null,
   "metadata": {},
   "outputs": [],
   "source": []
  }
 ],
 "metadata": {
  "kernelspec": {
   "display_name": "Python 3",
   "language": "python",
   "name": "python3"
  },
  "language_info": {
   "codemirror_mode": {
    "name": "ipython",
    "version": 3
   },
   "file_extension": ".py",
   "mimetype": "text/x-python",
   "name": "python",
   "nbconvert_exporter": "python",
   "pygments_lexer": "ipython3",
   "version": "3.10.11"
  }
 },
 "nbformat": 4,
 "nbformat_minor": 2
}
