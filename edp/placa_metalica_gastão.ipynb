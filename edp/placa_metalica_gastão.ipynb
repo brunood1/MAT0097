{
  "cells": [
    {
      "cell_type": "markdown",
      "metadata": {
        "id": "MMlaHSc9oo0r"
      },
      "source": [
        "# Problema da placa metálica\n",
        "\n",
        "Uma placa de material homogêneo é mantida com os bordos $AC$ e $BD$ a temperatura de $20^o C$, o bordo $AB$ a $40^oC$ e $CD$ a $10^oC$, com o uso de isolantes térmicos em $A$, $B$, $C$ e $D$.\n",
        "<center>\n",
        "<img src=\"https://drive.google.com/uc?id=1V8iKj5NcB4JyP0DndKDex2Y10Jjt_RDd\" width=\"270\">\n",
        "</center>\n",
        "\n",
        "Após ser atingido o equilíbrio térmico, qual é a temperatura aproximada em cada ponto da placa?\n",
        "\n",
        "---\n"
      ]
    },
    {
      "cell_type": "markdown",
      "metadata": {
        "id": "taHOxammTluq"
      },
      "source": [
        "<font color=#0000ff>\n",
        "Sabe-se que a equação que rege o fluxo de calor é dada por\n",
        "$$\n",
        "\\dfrac{\\partial T}{\\partial t} = c \\left (\n",
        "  \\dfrac{\\partial^2 T}{\\partial x^2} +\n",
        "  \\dfrac{\\partial^2 T}{\\partial y^2}\n",
        "\\right )\n",
        "$$\n",
        "onde $T$ é a temperatura num ponto $(x,y)$ e no intante de tempo $t$ e $c>0$ é uma constante característica do material de que é feita a placa.\n",
        "</font>\n",
        "\n",
        "<font color=#0000ff>\n",
        "No equilíbrio, térmico $T$ não varia com o tempo e, portanto, $\\dfrac{\\partial T}{\\partial t} = 0$, a equação torna-se\n",
        "$$\n",
        "  \\dfrac{\\partial^2 T}{\\partial x^2} +\n",
        "  \\dfrac{\\partial^2 T}{\\partial y^2}\n",
        "=0\n",
        "$$\n",
        "e o problema se converte em achar $T(x,y)$ satisfazendo a segunda equação e tal que $T$ tem um valor pré-fixado no bordo da placa.\n",
        "</font>\n",
        "\n",
        "---\n",
        "\n"
      ]
    },
    {
      "cell_type": "markdown",
      "metadata": {
        "id": "QxBz2YCSTvub"
      },
      "source": [
        "### Modelo Aproximado\n",
        "\n",
        "<font color=#0000ff>\n",
        "Substituímos a placa por uma \"aproximação discreta\" que consiste em uma malha (espera-se que quanto mais fina a malha, melhor seja a aproximação)\n",
        "</font>\n",
        "\n",
        "<center>\n",
        "<img src=\"https://drive.google.com/uc?id=1e1kSMOjh-_5DqvMthzV7tJVMxjP3duFB\" width=\"270\">\n",
        "</center>\n",
        "\n",
        "<font color=#0000ff>\n",
        "e procuramos as temperaturas $T_{i \\,j} = T(x_i,y_j)$ nos pontos $(x_i,y_j)$ da malha que devem satisfazer a condição dada nos bordos e uma equação que é aproximação de\n",
        "$\n",
        "  \\dfrac{\\partial^2 T}{\\partial x^2} +\n",
        "  \\dfrac{\\partial^2 T}{\\partial y^2}\n",
        "=0\n",
        "$.\n",
        "Para obter a aproximação desta equação, num ponto $(x_i,y_j)$ do interior da malha:\n",
        "$$\n",
        "\\dfrac{\\partial^2 T}{\\partial x^2}\\Big |_{(x_i,y_j)} \\approx\n",
        "\\dfrac{T_{i+1 \\, j} - 2T_{i \\, j} + T_{i-1 \\, j}}{h^2},\n",
        "$$\n",
        "$$\n",
        "\\dfrac{\\partial^2 T}{\\partial y^2}\\Big |_{(x_i,y_j)} \\approx\n",
        "\\dfrac{T_{i \\, j+1} - 2T_{i \\, j} + T_{i \\, j-1}}{h^2},\n",
        "$$\n",
        "substituindo em\n",
        "$\n",
        "  \\dfrac{\\partial^2 T}{\\partial x^2} +\n",
        "  \\dfrac{\\partial^2 T}{\\partial y^2}\n",
        "=0\n",
        "$ e simplificando, obtemos então:\n",
        "$$\n",
        "T_{i\\,j} = \\dfrac{T_{i+1 \\, j} + T_{i-1 \\, j} + T_{i \\, j+1} + T_{i \\, j-1}}{4}.\n",
        "$$\n",
        "</font>\n",
        "\n",
        "\n",
        "<font color=#0000ff>\n",
        "* Observe que  temperatura num ponto do interior da malha deve ser a média aritmética das temperaturas dos seus vizinhos mais próximos.\n",
        "</font>\n",
        "\n",
        "\n",
        "<font color=#0000ff>\n",
        "* Impondo  a condição\n",
        "$\n",
        "T_{i\\,j} = \\dfrac{T_{i+1 \\, j} + T_{i-1 \\, j} + T_{i \\, j+1} + T_{i \\, j-1}}{4}.\n",
        "$ nos pontos do interior da malha na figura acima, obtemos uma sistema linear, o qual devemos resolver.\n",
        "</font>\n",
        "\n",
        "\n",
        "<font color=#0000ff>\n",
        "* O que seria modificado se a \"abertura\" da malha na vertical fosse diferente da \"abertura\" na horizontal? Seriam necessária mais informações sobre a placa? E se o formato da placa fosse diferente?\n",
        "</font>\n",
        "\n"
      ]
    },
    {
      "cell_type": "markdown",
      "metadata": {
        "id": "R5y22aC4UNfC"
      },
      "source": [
        "### Montanto o esquema discretizado para o problema.\n",
        "\n",
        "Como nosso objetivo é entender como a temperatura é distribuida sobre a placa metálica sabendo os valores no contorno. É possivel construir um esquema explícito que dependa do tempo para encontrar uma solução a proximada para o mesmo problema?\n",
        "\n",
        "<font color=#ff0000> <b>Exercício: </b> Elabore esse esquema e compare coma solução obtida utilizando a estratégia anterior para o mesmo problema.\n",
        "\n",
        "<b>Sugestão:</b> Use o fato de $\\dfrac{\\partial T (x_i,y_j,t_n)}{\\partial t} \\approx \\dfrac{T_{ij}^{n+1} - T_{ij}^{n}}{h_t}$, sendo $T_{ij}^n = T(x_i,y_j,t_n)$.\n"
      ]
    },
    {
      "cell_type": "code",
      "execution_count": 27,
      "metadata": {
        "id": "p-G1Taacoqsp"
      },
      "outputs": [
        {
          "name": "stdout",
          "output_type": "stream",
          "text": [
            "[[30.         40.         40.         40.         30.        ]\n",
            " [20.         27.85714286 29.55357143 27.85714286 20.        ]\n",
            " [20.         21.875      22.5        21.875      20.        ]\n",
            " [20.         17.14285714 16.69642857 17.14285714 20.        ]\n",
            " [15.         10.         10.         10.         15.        ]]\n"
          ]
        }
      ],
      "source": [
        "import numpy as np\n",
        "import matplotlib.pyplot as plt\n",
        "\n",
        "\n",
        "# VARIAVEIS\n",
        "nx, ny = 5, 5\n",
        "h = 0.2\n",
        "\n",
        "c = 0.1\n",
        "\n",
        "nt = 100\n",
        "ht = 0.1\n",
        "\n",
        "right = 20\n",
        "left = 20\n",
        "up = 40\n",
        "down = 10\n",
        "\n",
        "epsilon = 0.01\n",
        "\n",
        "Tn0 = np.zeros((nx,ny))\n",
        "Tn1 = np.zeros((nx,ny))\n",
        "\n",
        "\n",
        "\n",
        "# CONDIÇÃO DE CONTORNO\n",
        "Tn0[1:nx-1,0] = right\n",
        "Tn0[1:nx-1,ny-1] = left\n",
        "Tn0[0,1:ny-1] = up\n",
        "Tn0[nx-1,1:ny-1] = down\n",
        "\n",
        "# CANTOS\n",
        "Tn0[0,0] = 0.5*(left+up)\n",
        "Tn0[0,-1] = 0.5*(right+up)\n",
        "Tn0[-1,0] = 0.5*(left+down)\n",
        "Tn0[-1,-1] = 0.5*(right+down)\n",
        "\n",
        "# CONDIÇAO INICIAL\n",
        "Tn1 = Tn0\n",
        "\n",
        "# ITERAÇÕES\n",
        "k = (ht*c)/(h**2)\n",
        "for t in range(nt):\n",
        "    for i in range(1,nx-1):\n",
        "        for j in range(1,ny-1):\n",
        "            Tn1[i,j] = Tn0[i,j] + k*(Tn0[i+1,j] + Tn0[i-1,j] - 4*Tn0[i,j] + Tn0[i,j+1] + Tn0[i,j-1])\n",
        "    Tn0 = Tn1\n",
        "    \n",
        "    # erro = np.linalg.norm(Tn1 - Tn0, np.inf)/np.linalg.norm(Tn1, np.inf)\n",
        "    # if erro <= epsilon:\n",
        "    #     print(f\"Número de iterações ::: {t}\")\n",
        "    #     print(f\"Erro relativo ::: {erro}\")\n",
        "    #     break\n",
        "    \n",
        "    \n",
        "\n",
        "print(Tn1)"
      ]
    },
    {
      "cell_type": "code",
      "execution_count": null,
      "metadata": {
        "id": "-17bSHBcxt1R"
      },
      "outputs": [],
      "source": []
    }
  ],
  "metadata": {
    "colab": {
      "provenance": []
    },
    "kernelspec": {
      "display_name": "Python 3",
      "name": "python3"
    },
    "language_info": {
      "codemirror_mode": {
        "name": "ipython",
        "version": 3
      },
      "file_extension": ".py",
      "mimetype": "text/x-python",
      "name": "python",
      "nbconvert_exporter": "python",
      "pygments_lexer": "ipython3",
      "version": "3.10.11"
    }
  },
  "nbformat": 4,
  "nbformat_minor": 0
}
